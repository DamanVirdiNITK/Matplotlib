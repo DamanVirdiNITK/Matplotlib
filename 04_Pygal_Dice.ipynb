{
 "cells": [
  {
   "cell_type": "code",
   "execution_count": null,
   "metadata": {},
   "outputs": [],
   "source": [
    "#!pip3 install pygal\n",
    "#pip install matplotlib"
   ]
  },
  {
   "cell_type": "code",
   "execution_count": 2,
   "metadata": {},
   "outputs": [],
   "source": [
    "#Creating Die Class\n",
    "\n",
    "from random import randint\n",
    "\n",
    "class Die():\n",
    "    \n",
    "    def __init__(self , num_sides = 6):\n",
    "        self.num_sides = num_sides\n",
    "    \n",
    "    def roll(self):\n",
    "        return randint(1, self.num_sides)"
   ]
  },
  {
   "cell_type": "code",
   "execution_count": 6,
   "metadata": {
    "scrolled": true
   },
   "outputs": [
    {
     "name": "stdout",
     "output_type": "stream",
     "text": [
      "[3, 5, 3, 6, 6, 2, 5, 4, 5, 4, 5, 6, 3, 3, 4]\n",
      "[0, 1, 4, 3, 4, 3]\n"
     ]
    }
   ],
   "source": [
    "\n",
    "#from die import Die\n",
    "\n",
    "die = Die()\n",
    "\n",
    "results = []\n",
    "\n",
    "for roll_num in range(15):\n",
    "    result = die.roll()\n",
    "    results.append(result)\n",
    "    \n",
    "#Analyze the results\n",
    "\n",
    "\n",
    "print(results)\n",
    "\n",
    "frequencies = []\n",
    "for value in range(1 , die.num_sides+1):\n",
    "    frequency = results.count(value)\n",
    "    frequencies.append(frequency)\n",
    "\n",
    "print(frequencies)\n"
   ]
  },
  {
   "cell_type": "code",
   "execution_count": 7,
   "metadata": {},
   "outputs": [],
   "source": [
    "#Making Histogram\n",
    "import pygal\n",
    "hist = pygal.Bar()\n",
    "\n",
    "hist.add('D6' , frequencies)\n",
    "hist.render_to_file('0205.svg')"
   ]
  },
  {
   "cell_type": "code",
   "execution_count": null,
   "metadata": {},
   "outputs": [],
   "source": []
  },
  {
   "cell_type": "code",
   "execution_count": null,
   "metadata": {},
   "outputs": [],
   "source": []
  }
 ],
 "metadata": {
  "kernelspec": {
   "display_name": "Python 3",
   "language": "python",
   "name": "python3"
  },
  "language_info": {
   "codemirror_mode": {
    "name": "ipython",
    "version": 3
   },
   "file_extension": ".py",
   "mimetype": "text/x-python",
   "name": "python",
   "nbconvert_exporter": "python",
   "pygments_lexer": "ipython3",
   "version": "3.8.5"
  }
 },
 "nbformat": 4,
 "nbformat_minor": 2
}
