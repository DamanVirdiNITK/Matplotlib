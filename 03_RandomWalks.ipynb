{
 "cells": [
  {
   "cell_type": "code",
   "execution_count": null,
   "metadata": {},
   "outputs": [],
   "source": [
    "#Creating random walk() class\n",
    "\n",
    "class RandomWalk:\n",
    "    \"\"\" A class to generate random walks.\"\"\"\n",
    "    \n",
    "    def __init__(self , num_points = 5000):\n",
    "        \"\"\"\"Initialize attributes of a walk.\"\"\"\n",
    "        self.num_points = num_points\n",
    "        \n",
    "        #All walks start at (0,0)\n",
    "        self.x_values = [0]\n",
    "        self.y_values = [0]\n",
    "        \n",
    "    #Choosing Directions\n",
    "    def fill_walk(self):\n",
    "        \"\"\"Calculate all the points in Walk\"\"\"\n",
    "        #keep taking steps until the walk reaches the desired length\n",
    "        while len(self.x_values) < self.num_points:\n",
    "            #Decide direction and distance\n",
    "            \n",
    "            x_direction = choice([ 1, -1])\n",
    "            x_distance = choice([0 , 1, 2, 3 ,4])\n",
    "            x_step = x_direction * x_distance\n",
    "            \n",
    "            y_direction = choice([ 1, -1])\n",
    "            y_distance = choice([0 , 1, 2, 3 ,4])\n",
    "            y_step = y_direction * y_distance\n",
    "            \n",
    "            #Reject moves that go nowhere\n",
    "            if x_step == 0 and y_step ==0:\n",
    "                continue\n",
    "                \n",
    "            #Calculate the next x and y values\n",
    "            next_x = self.x_values[-1] + x_step\n",
    "            next_y = self.y_values[-1] + y_step\n",
    "            \n",
    "            \n",
    "            self.x_values.append(next_x)\n",
    "            self.y_values.append(next_y)\n",
    "            \n",
    "\n",
    "#rw.num_points = 5\n",
    "#rw.x_values = [0]\n",
    "#rw.y_values = [0]"
   ]
  },
  {
   "cell_type": "code",
   "execution_count": null,
   "metadata": {},
   "outputs": [],
   "source": [
    "#Plotting Random Walk\n",
    "import matplotlib.pyplot as plt\n",
    "from random import choice\n",
    "#from random_walk import RandomWalk\n",
    "\n",
    "#Make a random walk, and plot the points.\n",
    "\n",
    "#while True:\n",
    "    \n",
    "rw = RandomWalk(10)\n",
    "rw.fill_walk()\n",
    "plt.scatter(rw.x_values , rw.y_values ,c = rw.y_values ,cmap = plt.cm.Blues, s =15)\n",
    "#plt.plot(rw.x_values , rw.y_values )\n",
    "    \n",
    "plt.scatter( 0,0, c ='green' , s = 100)\n",
    "plt.scatter(rw.x_values[-1] , rw.y_values[-1] ,  c =\"red\", s = 100)\n",
    "#plt.show()\n",
    "    \n",
    "    #keep_running = input(\"Make another Walk?(y/n) : \")\n",
    "    #if keep_running == 'n':\n",
    "    #    break"
   ]
  },
  {
   "cell_type": "code",
   "execution_count": null,
   "metadata": {},
   "outputs": [],
   "source": []
  },
  {
   "cell_type": "code",
   "execution_count": null,
   "metadata": {},
   "outputs": [],
   "source": []
  }
 ],
 "metadata": {
  "kernelspec": {
   "display_name": "Python 3",
   "language": "python",
   "name": "python3"
  },
  "language_info": {
   "codemirror_mode": {
    "name": "ipython",
    "version": 3
   },
   "file_extension": ".py",
   "mimetype": "text/x-python",
   "name": "python",
   "nbconvert_exporter": "python",
   "pygments_lexer": "ipython3",
   "version": "3.8.5"
  }
 },
 "nbformat": 4,
 "nbformat_minor": 2
}
